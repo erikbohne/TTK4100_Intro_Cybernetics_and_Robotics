{
 "cells": [
  {
   "cell_type": "markdown",
   "metadata": {},
   "source": [
    "# Nivåstyringslab"
   ]
  },
  {
   "cell_type": "code",
   "execution_count": 30,
   "metadata": {},
   "outputs": [
    {
     "name": "stdout",
     "output_type": "stream",
     "text": [
      "a = -0.0966 m**(1/2)/s\n",
      "b = 0.0650 m/kg\n",
      "k = -0.0139 m**(1/2)/s\n"
     ]
    }
   ],
   "source": [
    "import numpy as np\n",
    "\n",
    "# Define constants\n",
    "alpha = -0.0733 # m**(1/2)/s\n",
    "beta = 0.065 # m/kg\n",
    "h0 = 0.144 # m\n",
    "\n",
    "# Calculate the rest\n",
    "a = alpha/(2*np.sqrt(h0))\n",
    "b = beta\n",
    "k = alpha*np.sqrt(h0)/2\n",
    "\n",
    "print(f'a = {a:.4f} m**(1/2)/s')\n",
    "print(f'b = {b:.4f} m/kg')\n",
    "print(f'k = {k:.4f} m**(1/2)/s')\n",
    "\n"
   ]
  },
  {
   "cell_type": "markdown",
   "metadata": {},
   "source": [
    "### Tidskonstant ved 80% til 26% nivå\n",
    "Ved å la vannet renne ut med ventilen halvt åpen tok vi tiden fra tanken var 80% full til 26% full. Dette tok 44.58 sekunder. Nå som vi har tidskonstanten $T_{0.5}$ kan vi regne ut $a_{0.5}$ og dermed $a = 2 \\cdot a_{0.5}$:\n"
   ]
  },
  {
   "cell_type": "code",
   "execution_count": 17,
   "metadata": {},
   "outputs": [
    {
     "name": "stdout",
     "output_type": "stream",
     "text": [
      "a = -0.0471 s**(-1) gitt T = 42.48 s)\n"
     ]
    }
   ],
   "source": [
    "# Find the time constant\n",
    "T05 = 45.48 # s\n",
    "h0 = 80 # %\n",
    "h1 = 26 # % (after 63% of the time)\n",
    "\n",
    "# Calculate the time constant\n",
    "a = 2*(-1/(T05))\n",
    "\n",
    "print(f'a = {a:.4f} s**(-1) gitt T = {T05} s)')"
   ]
  },
  {
   "cell_type": "markdown",
   "metadata": {},
   "source": [
    "### Tidskonstant ved 40% til 14.7%  nivå\n",
    "Ved å la vannet renne ut med ventilen halvt åpen tok vi tiden fra tanken var 40% full til 14.7% full. Dette tok 26 sekunder. Nå som vi har tidskonstanten $T_{0.5}$ kan vi regne ut $a_{0.5}$ og dermed $a = 2 \\cdot a_{0.5}$:"
   ]
  },
  {
   "cell_type": "code",
   "execution_count": 14,
   "metadata": {},
   "outputs": [
    {
     "name": "stdout",
     "output_type": "stream",
     "text": [
      "a = -0.0769 s**(-1) gitt T = 26 s)\n"
     ]
    }
   ],
   "source": [
    "# Find the time constant\n",
    "T05 = 26 # s\n",
    "h0 = 40 # %\n",
    "h1 = 14.7 # % (after 63% of the time)\n",
    "\n",
    "# Calculate the time constant\n",
    "a = 2*(-1/(T05))\n",
    "\n",
    "print(f'a = {a:.4f} s**(-1) gitt T = {T05} s)')"
   ]
  },
  {
   "cell_type": "markdown",
   "metadata": {},
   "source": [
    "### Forskjellen i tidskonstantene\n",
    "Tidskonstanten når vi startet med 80% vannmengde var mindre enn dobbelt så mye som T når vi startet med 40%, dette betyr at vannet renner ut fortere desto fullere vanntanken er, noe som gir fysisk mening med at det er større trykk."
   ]
  },
  {
   "cell_type": "markdown",
   "metadata": {},
   "source": [
    "### Finne b og u\n",
    "For å finne b*u ser vi på endringen i H og t med et pådrag på U = 20. Dette regner vi ut med å ta endringen i h delt på endringen i tid $b*u = \\frac{H_2 - H_1}{t_2 - t_1}$. Dette betyr at for a finne u blir det $ u = \\frac{b*u}{b} = \\frac{H_2 - H_1}{t_2 - t_1} \\cdot \\frac{1}{b}$. Nå vet vi fra før at $ u = \\frac{U * w_{max}}{100} $ så dette gir oss formelen $ b = b*u / u$."
   ]
  },
  {
   "cell_type": "code",
   "execution_count": 33,
   "metadata": {},
   "outputs": [
    {
     "name": "stdout",
     "output_type": "stream",
     "text": [
      "bu = 0.0093 %/s\n",
      "b = 0.0842 (kg*s)\n"
     ]
    }
   ],
   "source": [
    "# Find bu\n",
    "h_max = 0.36 # m\n",
    "h_start = (10 * h_max) / 100 # m\n",
    "h_end = (60 * h_max) / 100 # m\n",
    "t0 = 0 # s\n",
    "t1 = 19.29 # s\n",
    "w_max = 0.554 # kg/s\n",
    "u = (20 * 0.554) / 100 # kg/s\n",
    "\n",
    "bu = ((h_end-h_start)/(t1-t0))\n",
    "print(f'bu = {(bu):.4f} %/s')\n",
    "\n",
    "# find b\n",
    "print(f'b = {(bu)/u:.4f} (kg*s)')\n"
   ]
  },
  {
   "cell_type": "markdown",
   "metadata": {},
   "source": []
  },
  {
   "cell_type": "code",
   "execution_count": 40,
   "metadata": {},
   "outputs": [
    {
     "name": "stdout",
     "output_type": "stream",
     "text": [
      "Error = 2.54\n"
     ]
    }
   ],
   "source": [
    "# Calculate the error with Kp = 5 in a P controller\n",
    "lowest = 71.61\n",
    "highest = 73.31\n",
    "reference = 75\n",
    "\n",
    "print(f'Error = {abs(((highest + lowest)/2) - reference):.2f}')"
   ]
  },
  {
   "cell_type": "code",
   "execution_count": 41,
   "metadata": {},
   "outputs": [
    {
     "name": "stdout",
     "output_type": "stream",
     "text": [
      "Error = 0.27\n"
     ]
    }
   ],
   "source": [
    "# Calculate the error with Kp = 5 and Ti = Kp / Ki = 100 in a P controller\n",
    "lowest = 73.97\n",
    "highest = 75.5\n",
    "reference = 75\n",
    "\n",
    "print(f'Error = {abs(((highest + lowest)/2) - reference):.2f}')"
   ]
  },
  {
   "cell_type": "markdown",
   "metadata": {},
   "source": [
    "### PID regulator\n",
    "Med Kp = 2, Ti = 25 og Td = 0.25 får vi et veldig lite avvik og ganske jevnt pådrag."
   ]
  },
  {
   "cell_type": "markdown",
   "metadata": {},
   "source": [
    "Kpk = 5\n",
    "\n"
   ]
  },
  {
   "cell_type": "code",
   "execution_count": 45,
   "metadata": {},
   "outputs": [
    {
     "name": "stdout",
     "output_type": "stream",
     "text": [
      "Values to put in our PID Controller\n",
      "Kp = 3.00\n",
      "Ti = 3.75\n",
      "Td = 0.94\n"
     ]
    }
   ],
   "source": [
    "Kpk = 5\n",
    "Kp = 0.6 * Kpk\n",
    "Tk = 7.5\n",
    "\n",
    "\n",
    "Ki = 2*Kp/Tk\n",
    "Kd = 0.125*Kp*Tk\n",
    "\n",
    "Ti = Kp/Ki\n",
    "Td = Kd/Kp\n",
    "\n",
    "print(\"Values to put in our PID Controller\")\n",
    "print(f'Kp = {Kp:.2f}')\n",
    "print(f'Ti = {Ti:.2f}')\n",
    "print(f'Td = {Td:.2f}')"
   ]
  }
 ],
 "metadata": {
  "kernelspec": {
   "display_name": "venv",
   "language": "python",
   "name": "python3"
  },
  "language_info": {
   "codemirror_mode": {
    "name": "ipython",
    "version": 3
   },
   "file_extension": ".py",
   "mimetype": "text/x-python",
   "name": "python",
   "nbconvert_exporter": "python",
   "pygments_lexer": "ipython3",
   "version": "3.10.13"
  }
 },
 "nbformat": 4,
 "nbformat_minor": 2
}
